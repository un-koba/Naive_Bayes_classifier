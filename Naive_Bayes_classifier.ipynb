{
 "cells": [
  {
   "cell_type": "code",
   "execution_count": 39,
   "metadata": {
    "collapsed": true
   },
   "outputs": [],
   "source": [
    "import sys, math\n",
    "import MeCab\n",
    "mecab = MeCab.Tagger('-d /usr/local/lib/mecab/dic/mecab-ipadic-neologd')\n",
    "\n",
    "class baysian_filter:\n",
    "    def __init__(self):\n",
    "        self.words = set()             \n",
    "        self.word_count = {}        \n",
    "        self.category_count = {}\n",
    "        \n",
    "    def morphological_analysis(self, text):\n",
    "        words_with = mecab.parse(text).split('\\n')\n",
    "        return [ w.split('\\t') for w in words_with ]\n",
    "\n",
    "    def headwords(self, words, n, res):\n",
    "        if words[n][0] == 'EOS':\n",
    "            return res\n",
    "        w = words[n][1].split(',')\n",
    "        res.append([ w[6], w[0] ])\n",
    "        return self.headwords(words, n + 1, res)\n",
    "\n",
    "    def parts_of_speech(self, words, n, res):\n",
    "        if n >= len(words): \n",
    "            return res\n",
    "        if words[n][1] in ['名詞', '形容詞'] :\n",
    "            res.append(words[n][0])\n",
    "        return self.parts_of_speech(words, n + 1, res)\n",
    "        \n",
    "    def update_word(self, word, category):\n",
    "        if not category in self.word_count:\n",
    "            self.word_count[category] = {}\n",
    "        self.word_count[category][word] = self.calc_word(word, category)\n",
    "        self.words.add(word)\n",
    "\n",
    "    # wl: word list\n",
    "    # c: category\n",
    "    # n: index\n",
    "    def update_words(self, wl, c, n):\n",
    "        if n == len(wl):\n",
    "            return\n",
    "        self.update_word(wl[n], c)\n",
    "        return self.update_words(wl, c, n + 1)\n",
    "\n",
    "    def update_category(self, category):\n",
    "        self.category_count[category] = self.calc_category(category)\n",
    "\n",
    "    def calc_word(self, word, category):\n",
    "        if not category in self.word_count:\n",
    "            return 1\n",
    "        if not word in self.word_count[category]:\n",
    "            return 1\n",
    "        return self.word_count[category][word] + 1\n",
    "\n",
    "    def calc_category(self, category):\n",
    "        if not category in self.category_count:\n",
    "            return 1\n",
    "        return self.category_count[category] + 1\n",
    "\n",
    "    # training\n",
    "    def fit(self, text, category):\n",
    "        t = self.morphological_analysis(text)\n",
    "        word_list = self.parts_of_speech(self.headwords(t, 0, []), 0, [])\n",
    "        self.update_words(word_list, category, 0)\n",
    "        self.update_category(category)\n",
    "    \n",
    "    # Πi P(Fi | C) -> Σi log P(Fi | C) \n",
    "    def calc_word_prob(self, score, words, category, n):\n",
    "        if n >= len(words) -1:\n",
    "            return score\n",
    "        return self.calc_word_prob(score + math.log(self.word_prob(words[n], category)), \n",
    "                                   words, category, \n",
    "                                   n + 1)\n",
    "        \n",
    "    def score(self, words, category):\n",
    "        return self.calc_word_prob( \n",
    "                               math.log(self.category_prob(category)),\n",
    "                               words, category, 0)\n",
    "    \n",
    "    def predict(self, text):\n",
    "        words = self.parts_of_speech(\n",
    "            self.headwords(\n",
    "                self.morphological_analysis(text)\n",
    "                , 0, [])\n",
    "        , 0, [])\n",
    "        # argmax P(C|F) = P(C)P(F|C)\n",
    "        best_category, max_score, scores = self.argmax(words, \n",
    "               list(self.category_count.keys()), \n",
    "               None, \n",
    "               -sys.maxsize, \n",
    "               [], \n",
    "               0 )\n",
    "        return best_category, max_score, scores\n",
    "    \n",
    "    def argmax( self, words, categories, best_category, max_score, scores, n):\n",
    "        if n >= len(categories):\n",
    "            return best_category, max_score, scores\n",
    "        score = self.score(words, categories[n])\n",
    "        scores.append((categories[n], score))\n",
    "        if score > max_score:\n",
    "            best_category = categories[n]\n",
    "            max_score = score\n",
    "        return self.argmax( words, categories, best_category, max_score, scores, n + 1)\n",
    "        \n",
    "    #  P(C) ... category / all categories\n",
    "    def category_prob(self, category):\n",
    "        sum_categories = sum(self.category_count.values())\n",
    "        category_v = self.category_count[category]\n",
    "        return category_v / sum_categories\n",
    "\n",
    "    def get_word_count(self, word, category):\n",
    "        if word in self.word_count[category]:\n",
    "            return self.word_count[category][word]\n",
    "        else:\n",
    "            return 0\n",
    "        \n",
    "    # likelihood P(F|C)\n",
    "    def word_prob(self, word, category):\n",
    "        n = self.get_word_count(word, category) + 1 # smoothing\n",
    "        d = sum(self.word_count[category].values()) + len(self.words)\n",
    "        return n / d"
   ]
  },
  {
   "cell_type": "code",
   "execution_count": 40,
   "metadata": {
    "collapsed": true
   },
   "outputs": [],
   "source": [
    "bf = baysian_filter()"
   ]
  },
  {
   "cell_type": "code",
   "execution_count": 47,
   "metadata": {
    "collapsed": true
   },
   "outputs": [],
   "source": [
    "bf.fit(\"今週のふりかえりと来週のタスクについて\", \"通常\")\n",
    "bf.fit(\"昨日の進捗について\", \"通常\")\n",
    "bf.fit(\"今月の経営会議について\", \"通常\")\n",
    "bf.fit(\"明日の来客について\", \"通常\")\n",
    "bf.fit(\"【Chatwork】未読メッセージがあります\", \"通常\")\n",
    "bf.fit(\"仕様確認のミーティングについて\", \"通常\")\n",
    "bf.fit(\"今週の打ち合わせや作業について\", \"通常\")\n",
    "bf.fit(\"販売促進会議の議事録。\", \"通常\")\n",
    "bf.fit(\"作業依頼です。\", \"通常\")\n",
    "bf.fit(\"12月の予算会議\", \"通常\")\n",
    "bf.fit(\"今月の勉強会の開催場所\", \"通常\")\n",
    "\n",
    "bf.fit(\"先着10名に、10000ポイントをプレゼント\", \"スパム\")\n",
    "bf.fit(\"＜本日最終日＞MAX50 %OFF！セール開催中！\", \"スパム\")\n",
    "bf.fit(\"人気作が今だけ値下げ\", \"スパム\")\n",
    "bf.fit(\"あなただけにお教えします\", \"スパム\")\n",
    "bf.fit(\"あなたと出会いたい人がいます\", \"スパム\")\n",
    "bf.fit(\"【毎回好評の商品に、今だけもらえるお試しセットが登場】\", \"スパム\")\n",
    "bf.fit(\"割引セール開催中！\", \"スパム\")\n",
    "bf.fit(\"新規入会キャンペーンのご案内\", \"スパム\")\n",
    "bf.fit(\"無料セミナー開催中\", \"スパム\")\n",
    "bf.fit(\"限定セール実施中\", \"スパム\")\n",
    "bf.fit(\"100万円プレゼント実施中\", \"スパム\")\n"
   ]
  },
  {
   "cell_type": "code",
   "execution_count": 48,
   "metadata": {
    "collapsed": true,
    "scrolled": true
   },
   "outputs": [],
   "source": [
    "# 予測\n",
    "pre, mas_score, scorelist = bf.predict(\"セールのお知らせ\")"
   ]
  },
  {
   "cell_type": "code",
   "execution_count": 49,
   "metadata": {},
   "outputs": [
    {
     "name": "stdout",
     "output_type": "stream",
     "text": [
      "結果: スパム\n",
      "-3.756601677399432\n",
      "[('通常', -5.477009155291413), ('スパム', -3.756601677399432)]\n"
     ]
    }
   ],
   "source": [
    "print(\"結果: {0}\".format(pre))\n",
    "print(mas_score)\n",
    "print(scorelist)"
   ]
  },
  {
   "cell_type": "code",
   "execution_count": 50,
   "metadata": {
    "collapsed": true
   },
   "outputs": [],
   "source": [
    "# 予測\n",
    "pre, mas_score, scorelist = bf.predict(\"来月の予算について\")"
   ]
  },
  {
   "cell_type": "code",
   "execution_count": 51,
   "metadata": {},
   "outputs": [
    {
     "name": "stdout",
     "output_type": "stream",
     "text": [
      "結果: 通常\n",
      "-5.477009155291413\n",
      "[('通常', -5.477009155291413), ('スパム', -5.702511826454745)]\n"
     ]
    }
   ],
   "source": [
    "print(\"結果: {0}\".format(pre))\n",
    "print(mas_score)\n",
    "print(scorelist)"
   ]
  },
  {
   "cell_type": "code",
   "execution_count": 52,
   "metadata": {},
   "outputs": [
    {
     "name": "stdout",
     "output_type": "stream",
     "text": [
      "結果: スパム\n",
      "-26.19924686421797\n",
      "[('通常', -26.39970201693472), ('スパム', -26.19924686421797)]\n"
     ]
    }
   ],
   "source": [
    "# 予測\n",
    "# txt = \"今がお得、iphone値引き中\"\n",
    "txt = \"iPhone 7が値下げ★6sは一括500円でポイントももらえる！\"\n",
    "pre, mas_score, scorelist = bf.predict(txt)\n",
    "print(\"結果: {0}\".format(pre))\n",
    "print(mas_score)\n",
    "print(scorelist)"
   ]
  },
  {
   "cell_type": "code",
   "execution_count": null,
   "metadata": {
    "collapsed": true
   },
   "outputs": [],
   "source": []
  },
  {
   "cell_type": "code",
   "execution_count": null,
   "metadata": {
    "collapsed": true
   },
   "outputs": [],
   "source": []
  }
 ],
 "metadata": {
  "kernelspec": {
   "display_name": "Python 3",
   "language": "python",
   "name": "python3"
  },
  "language_info": {
   "codemirror_mode": {
    "name": "ipython",
    "version": 3
   },
   "file_extension": ".py",
   "mimetype": "text/x-python",
   "name": "python",
   "nbconvert_exporter": "python",
   "pygments_lexer": "ipython3",
   "version": "3.6.2"
  }
 },
 "nbformat": 4,
 "nbformat_minor": 2
}
